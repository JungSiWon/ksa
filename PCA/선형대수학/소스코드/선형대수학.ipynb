{
 "cells": [
  {
   "cell_type": "code",
   "execution_count": 57,
   "id": "b737c1e6",
   "metadata": {},
   "outputs": [
    {
     "data": {
      "text/plain": [
       "<matplotlib.image.AxesImage at 0x2338f77f448>"
      ]
     },
     "execution_count": 57,
     "metadata": {},
     "output_type": "execute_result"
    },
    {
     "data": {
      "image/png": "[encoded data removed]",
      "text/plain": [
       "<Figure size 432x288 with 1 Axes>"
      ]
     },
     "metadata": {
      "needs_background": "light"
     },
     "output_type": "display_data"
    }
   ],
   "source": [
    "from sklearn.datasets import load_digits\n",
    "import matplotlib.pyplot as plt\n",
    "digits = load_digits()\n",
    "d0 = digits.images[0]\n",
    "d1 = digits.images[1]\n",
    "d2 = digits.images[2]\n",
    "d3 = digits.images[3]\n",
    "d4 = digits.images[4]\n",
    "d5 = digits.images[5]\n",
    "d6 = digits.images[6]\n",
    "d7 = digits.images[7]\n",
    "d8 = digits.images[8]\n",
    "d9 = digits.images[9]\n",
    "d10 = digits.images[10]\n",
    "plt.imshow(d10)"
   ]
  },
  {
   "cell_type": "code",
   "execution_count": 5,
   "id": "0fe991f5",
   "metadata": {},
   "outputs": [
    {
     "name": "stdout",
     "output_type": "stream",
     "text": [
      "원래좌표: [0 0] [2 0] [0 2] [2 2]\n",
      "변환된 좌표: [0 0] [2 0] [6 2] [8 2]\n"
     ]
    }
   ],
   "source": [
    "import numpy as np\n",
    "A = np.array([[1,3],[0,1]])\n",
    "X = np.array([[0,0],[2,0],[0,2],[2,2]]).T\n",
    "AX = A@X\n",
    "print(\"원래좌표:\",X[:,0],X[:,1],X[:,2],X[:,3])\n",
    "print(\"변환된 좌표:\", AX[:,0],AX[:,1],AX[:,2],AX[:,3])"
   ]
  },
  {
   "cell_type": "code",
   "execution_count": 13,
   "id": "c944abad",
   "metadata": {},
   "outputs": [
    {
     "data": {
      "text/plain": [
       "numpy.ndarray"
      ]
     },
     "execution_count": 13,
     "metadata": {},
     "output_type": "execute_result"
    }
   ],
   "source": [
    "type(d1)"
   ]
  },
  {
   "cell_type": "code",
   "execution_count": 14,
   "id": "fa7d317e",
   "metadata": {},
   "outputs": [
    {
     "data": {
      "text/plain": [
       "(8, 8)"
      ]
     },
     "execution_count": 14,
     "metadata": {},
     "output_type": "execute_result"
    }
   ],
   "source": [
    "d1.shape"
   ]
  },
  {
   "cell_type": "code",
   "execution_count": 52,
   "id": "65154c50",
   "metadata": {},
   "outputs": [
    {
     "data": {
      "text/plain": [
       "(64,)"
      ]
     },
     "execution_count": 52,
     "metadata": {},
     "output_type": "execute_result"
    }
   ],
   "source": [
    "dd0 = d0.reshape(-1)\n",
    "dd1 = d1.reshape(-1)\n",
    "dd2 = d2.reshape(-1)\n",
    "dd3 = d3.reshape(-1)\n",
    "dd4 = d4.reshape(-1)\n",
    "dd5 = d5.reshape(-1)\n",
    "dd6 = d6.reshape(-1)\n",
    "dd7 = d7.reshape(-1)\n",
    "dd8 = d8.reshape(-1)\n",
    "dd9 = d9.reshape(-1)\n",
    "dd10 = d10.reshape(-1)\n",
    "dd0.shape"
   ]
  },
  {
   "cell_type": "code",
   "execution_count": 41,
   "id": "b7fbfe9f",
   "metadata": {},
   "outputs": [
    {
     "data": {
      "text/plain": [
       "1866.0"
      ]
     },
     "execution_count": 41,
     "metadata": {},
     "output_type": "execute_result"
    }
   ],
   "source": [
    "dd0.dot(dd1)"
   ]
  },
  {
   "cell_type": "code",
   "execution_count": 23,
   "id": "c8bc96c1",
   "metadata": {},
   "outputs": [
    {
     "data": {
      "text/plain": [
       "1866.0"
      ]
     },
     "execution_count": 23,
     "metadata": {},
     "output_type": "execute_result"
    }
   ],
   "source": [
    "dd1.dot(dd0)"
   ]
  },
  {
   "cell_type": "code",
   "execution_count": 34,
   "id": "cb0d4c7a",
   "metadata": {},
   "outputs": [
    {
     "data": {
      "text/plain": [
       "0.5191023426414686"
      ]
     },
     "execution_count": 34,
     "metadata": {},
     "output_type": "execute_result"
    }
   ],
   "source": [
    "cos = dd0.dot(dd1)/(np.sqrt(dd0.dot(dd0))*np.sqrt(dd1.dot(dd1)))\n",
    "cos"
   ]
  },
  {
   "cell_type": "code",
   "execution_count": 37,
   "id": "aeb42564",
   "metadata": {},
   "outputs": [
    {
     "data": {
      "text/plain": [
       "1.0"
      ]
     },
     "execution_count": 37,
     "metadata": {},
     "output_type": "execute_result"
    }
   ],
   "source": [
    "cos = dd0.dot(dd0)/(np.sqrt(dd0.dot(dd0))*np.sqrt(dd0.dot(dd0)))\n",
    "cos"
   ]
  },
  {
   "cell_type": "code",
   "execution_count": 53,
   "id": "83c59801",
   "metadata": {},
   "outputs": [
    {
     "data": {
      "text/plain": [
       "0.9191053370251786"
      ]
     },
     "execution_count": 53,
     "metadata": {},
     "output_type": "execute_result"
    }
   ],
   "source": [
    "cos = dd0.dot(dd10)/(np.sqrt(dd0.dot(dd0))*np.sqrt(dd10.dot(dd10)))\n",
    "cos"
   ]
  },
  {
   "cell_type": "code",
   "execution_count": 60,
   "id": "fd076a7a",
   "metadata": {},
   "outputs": [
    {
     "name": "stdout",
     "output_type": "stream",
     "text": [
      "[3 3 3]\n"
     ]
    }
   ],
   "source": [
    "a = np.array([1,2,3])\n",
    "b = np.array([4,5,6])\n",
    "print(b-a)"
   ]
  },
  {
   "cell_type": "code",
   "execution_count": 62,
   "id": "def2cda2",
   "metadata": {},
   "outputs": [
    {
     "name": "stdout",
     "output_type": "stream",
     "text": [
      "[[4 4]\n",
      " [4 4]]\n"
     ]
    }
   ],
   "source": [
    "aa = np.array([[1,2],[3,4]])\n",
    "bb = np.array([[5,6],[7,8]])\n",
    "print(bb-aa)"
   ]
  },
  {
   "cell_type": "code",
   "execution_count": null,
   "id": "dc7bea0b",
   "metadata": {},
   "outputs": [],
   "source": []
  }
 ],
 "metadata": {
  "kernelspec": {
   "display_name": "Python 3",
   "language": "python",
   "name": "python3"
  },
  "language_info": {
   "codemirror_mode": {
    "name": "ipython",
    "version": 3
   },
   "file_extension": ".py",
   "mimetype": "text/x-python",
   "name": "python",
   "nbconvert_exporter": "python",
   "pygments_lexer": "ipython3",
   "version": "3.7.10"
  }
 },
 "nbformat": 4,
 "nbformat_minor": 5
}
