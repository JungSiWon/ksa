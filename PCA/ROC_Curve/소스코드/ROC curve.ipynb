{
 "cells": [
  {
   "cell_type": "code",
   "execution_count": 6,
   "id": "65b13bcb",
   "metadata": {},
   "outputs": [
    {
     "data": {
      "text/plain": [
       "(20, 150)"
      ]
     },
     "execution_count": 6,
     "metadata": {},
     "output_type": "execute_result"
    }
   ],
   "source": [
    "import math\n",
    "import numpy as np\n",
    "import cv2, os\n",
    "import pandas as pd\n",
    "from numpy import linalg as LA\n",
    "from PIL import Image\n",
    "import matplotlib.pyplot as plt\n",
    "\n",
    "S = []\n",
    "Y = []\n",
    "\n",
    "for name in os.listdir(\"C:/Users/user/Desktop/PCA/PCA_Basic/faces\"):\n",
    "    nameList = os.listdir(\"C:/Users/user/Desktop/PCA/PCA_Basic/faces/%s\"%name)\n",
    "\n",
    "    if len(nameList) <50 : \n",
    "        continue\n",
    "\n",
    "    y = name.replace(\".jpg\",\"\")\n",
    "\n",
    "    count = 0\n",
    "    for i in nameList:\n",
    "        if count == 50 :\n",
    "            break\n",
    "        filePath = \"C:/Users/user/Desktop/PCA/PCA_Basic/faces/%s/%s\"%(name,i)\n",
    "\n",
    "        # decoding path written by korean\n",
    "        stream = open( filePath.encode(\"utf-8\") , \"rb\")\n",
    "        bytes = bytearray(stream.read())\n",
    "        numpyArray = np.asarray(bytes, dtype=np.uint8)\n",
    "        img = cv2.imdecode(numpyArray , cv2.IMREAD_UNCHANGED)\n",
    "\n",
    "        gray = cv2.cvtColor(img, cv2.COLOR_BGR2GRAY)\n",
    "        imgArr = np.array(gray)\n",
    "        temp = np.reshape(imgArr, (150*150))\n",
    "        Y.append(y)\n",
    "        S.append(temp)\n",
    "        count += 1\n",
    "        y_true.append(name)\n",
    "\n",
    "S = np.array(S).T\n",
    "\n",
    "SS = np.zeros_like(S)\n",
    "for i in range(S.shape[1]):\n",
    "    SS[:,i] = cv2.equalizeHist(S[:,i]).reshape(-1,)\n",
    "    \n",
    "m = np.mean(SS, axis=1)\n",
    "m = m.reshape(-1, 1) \n",
    "D = SS-m\n",
    "\n",
    "L = D.T @ D\n",
    "w, v = LA.eig(L) \n",
    "\n",
    "zero_eigen = [i for i in range(len(w)) if abs(w[i]) <1e-4]\n",
    "j=0\n",
    "for i in zero_eigen:\n",
    "    w = np.delete(w, i-j, axis=0)\n",
    "    v = np.delete(v, i-j, axis=1)\n",
    "    j += 1\n",
    "    \n",
    "index = np.argsort(w.real)[::-1] \n",
    "ww = w.real[index]\n",
    "vv = v.real[:,index]  \n",
    "\n",
    "eigenface_num= 20 # 주축의 개수 \n",
    "ww = ww[:eigenface_num]\n",
    "vv = vv[:, :eigenface_num]\n",
    "u = D @ vv\n",
    "u = u/(LA.norm(u, axis=0))\n",
    "\n",
    "weight = u.T @ D  # weight = u @ D.T \n",
    "weight.shape"
   ]
  },
  {
   "cell_type": "code",
   "execution_count": 144,
   "id": "fc4b5688",
   "metadata": {},
   "outputs": [
    {
     "data": {
      "image/png": "[encoded data removed]",
      "text/plain": [
       "<Figure size 432x288 with 1 Axes>"
      ]
     },
     "metadata": {
      "needs_background": "light"
     },
     "output_type": "display_data"
    },
    {
     "data": {
      "image/png": "[encoded data removed]",
      "text/plain": [
       "<Figure size 432x288 with 1 Axes>"
      ]
     },
     "metadata": {
      "needs_background": "light"
     },
     "output_type": "display_data"
    },
    {
     "data": {
      "image/png": "[encoded data removed]",
      "text/plain": [
       "<Figure size 432x288 with 1 Axes>"
      ]
     },
     "metadata": {
      "needs_background": "light"
     },
     "output_type": "display_data"
    }
   ],
   "source": [
    "authentic = []\n",
    "imposter = []\n",
    "for i in range(50):\n",
    "    for j in range(len(weight.T)):\n",
    "        weight.T[i]\n",
    "        dist1 = LA.norm(weight.T[i])\n",
    "        dist2 = LA.norm(weight.T[j])\n",
    "        cosine_similarity = np.dot(weight.T[i], weight.T[j])/(dist1 * dist2)\n",
    "        if j < 50:\n",
    "            authentic.append(cosine_similarity)\n",
    "        else:\n",
    "            imposter.append(cosine_similarity)\n",
    "import matplotlib.pyplot as plt\n",
    " \n",
    "plt.hist(authentic, bins=100,alpha=0.7,color='red')\n",
    "plt.hist(imposter, bins=100,alpha=0.7)\n",
    "plt.title(\"girun\")\n",
    "plt.xticks(np.arange(-1,1.1,0.5))\n",
    "plt.legend(['authentic','imposter'])\n",
    "plt.show()\n",
    "\n",
    "authentic1 = []\n",
    "imposter1 = []\n",
    "for i in range(50,100):\n",
    "    for j in range(len(weight.T)):\n",
    "        weight.T[i]\n",
    "        dist1 = LA.norm(weight.T[i])\n",
    "        dist2 = LA.norm(weight.T[j])\n",
    "        cosine_similarity = np.dot(weight.T[i], weight.T[j])/(dist1 * dist2)\n",
    "        if j < 100 and j >= 50:\n",
    "            authentic.append(cosine_similarity)\n",
    "            authentic1.append(cosine_similarity)\n",
    "        else:\n",
    "            imposter.append(cosine_similarity)\n",
    "            imposter1.append(cosine_similarity)\n",
    "plt.hist(authentic, bins=100,alpha=0.7,color='red')\n",
    "plt.hist(imposter, bins=100,alpha=0.7)\n",
    "plt.title(\"gunhee\")\n",
    "plt.xticks(np.arange(-1,1.1,0.5))\n",
    "plt.legend(['authentic','imposter'])\n",
    "plt.show()\n",
    "\n",
    "authentic1 = []\n",
    "imposter1 = []\n",
    "for i in range(100,150):\n",
    "    for j in range(len(weight.T)):\n",
    "        weight.T[i]\n",
    "        dist1 = LA.norm(weight.T[i])\n",
    "        dist2 = LA.norm(weight.T[j])\n",
    "        cosine_similarity = np.dot(weight.T[i], weight.T[j])/(dist1 * dist2)\n",
    "        if j < 150 and j >= 100:\n",
    "            authentic.append(cosine_similarity)\n",
    "            authentic1.append(cosine_similarity)\n",
    "        else:\n",
    "            imposter.append(cosine_similarity)      \n",
    "            imposter1.append(cosine_similarity)\n",
    "plt.hist(authentic, bins=100,alpha=0.7,color='red')\n",
    "plt.hist(imposter, bins=100,alpha=0.7)\n",
    "plt.title(\"siwon\")\n",
    "plt.xticks(np.arange(-1,1.1,0.5))\n",
    "plt.legend(['authentic','imposter'])\n",
    "plt.show()\n"
   ]
  },
  {
   "cell_type": "code",
   "execution_count": 121,
   "id": "a2a347e9",
   "metadata": {},
   "outputs": [],
   "source": [
    "frr=[]\n",
    "far=[]\n",
    "\n",
    "for i in np.arange(-1,1.01,0.05):\n",
    "    a = np.zeros_like(authentic)\n",
    "    b = np.zeros_like(imposter)\n",
    "    cnt=0\n",
    "    for j in range(len(authentic)):\n",
    "        if authentic[j] > i:\n",
    "            a[j]=1\n",
    "        else:\n",
    "            cnt += 1\n",
    "    frr.append(cnt/(len(authentic)+len(imposter)))        \n",
    "    cnt = 0\n",
    "    for z in range(len(imposter)):\n",
    "        if imposter[z] > i:\n",
    "            b[j]=1\n",
    "            cnt += 1\n",
    "    far.append(cnt/(len(authentic)+len(imposter)))"
   ]
  },
  {
   "cell_type": "code",
   "execution_count": 141,
   "id": "9a5a21ae",
   "metadata": {},
   "outputs": [
    {
     "data": {
      "text/plain": [
       "Text(0, 0.5, 'FAR')"
      ]
     },
     "execution_count": 141,
     "metadata": {},
     "output_type": "execute_result"
    },
    {
     "data": {
      "image/png": "[encoded data removed]",
      "text/plain": [
       "<Figure size 432x288 with 1 Axes>"
      ]
     },
     "metadata": {
      "needs_background": "light"
     },
     "output_type": "display_data"
    }
   ],
   "source": [
    "plt.plot(frr,far,color='red')\n",
    "plt.title('ROC Curve')\n",
    "plt.xlabel('FRR')\n",
    "plt.ylabel('FAR')"
   ]
  },
  {
   "cell_type": "markdown",
   "id": "6f33a6e3",
   "metadata": {},
   "source": [
    "### ERR 구하기"
   ]
  },
  {
   "cell_type": "code",
   "execution_count": 132,
   "id": "06cd85fe",
   "metadata": {},
   "outputs": [
    {
     "name": "stdout",
     "output_type": "stream",
     "text": [
      "0.15000000000000013\n"
     ]
    }
   ],
   "source": [
    "#ERR의 해당 Threshold 값 계산\n",
    "x = 1\n",
    "for i in range(len(far)):\n",
    "    if abs(frr[i] - far[i]) < x:\n",
    "        x = abs(frr[i] - far[i])\n",
    "        j = i\n",
    "print(-1  + 0.05*j)"
   ]
  },
  {
   "cell_type": "code",
   "execution_count": 134,
   "id": "b0caf576",
   "metadata": {},
   "outputs": [
    {
     "data": {
      "text/plain": [
       "0.08008888888888889"
      ]
     },
     "execution_count": 134,
     "metadata": {},
     "output_type": "execute_result"
    }
   ],
   "source": [
    "#ERR 계산\n",
    "far[23] + frr[23]"
   ]
  },
  {
   "cell_type": "code",
   "execution_count": null,
   "id": "815bf20d",
   "metadata": {},
   "outputs": [],
   "source": []
  }
 ],
 "metadata": {
  "kernelspec": {
   "display_name": "Python 3",
   "language": "python",
   "name": "python3"
  },
  "language_info": {
   "codemirror_mode": {
    "name": "ipython",
    "version": 3
   },
   "file_extension": ".py",
   "mimetype": "text/x-python",
   "name": "python",
   "nbconvert_exporter": "python",
   "pygments_lexer": "ipython3",
   "version": "3.7.10"
  }
 },
 "nbformat": 4,
 "nbformat_minor": 5
}
